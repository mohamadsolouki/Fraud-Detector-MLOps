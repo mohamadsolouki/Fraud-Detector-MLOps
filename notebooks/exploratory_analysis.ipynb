{
 "cells": [
  {
   "cell_type": "markdown",
   "metadata": {},
   "source": [
    "# Exploratory Data Analysis for Fraud Detection System\n",
    "This notebook performs an initial exploration of the fraud detection dataset. Our goal is to understand the dataset's characteristics, distribution of variables, and identify any patterns or anomalies that could inform subsequent modeling.\n"
   ]
  },
  {
   "cell_type": "markdown",
   "metadata": {},
   "source": []
  },
  {
   "cell_type": "code",
   "execution_count": null,
   "metadata": {},
   "outputs": [],
   "source": [
    "import pandas as pd\n",
    "\n",
    "# Load the dataset\n",
    "file_path = '../data/dataset.csv'  # Update with your dataset path\n",
    "data = pd.read_csv(file_path)\n",
    "\n",
    "# Display the first few rows\n",
    "data.head()\n"
   ]
  },
  {
   "cell_type": "markdown",
   "metadata": {},
   "source": []
  },
  {
   "cell_type": "code",
   "execution_count": null,
   "metadata": {},
   "outputs": [],
   "source": [
    "# Dataset Summary\n",
    "data.describe()\n",
    "\n",
    "# Dataset Information\n",
    "data.info()\n",
    "\n",
    "# Checking for missing values\n",
    "data.isnull().sum()\n"
   ]
  },
  {
   "cell_type": "markdown",
   "metadata": {},
   "source": []
  },
  {
   "cell_type": "code",
   "execution_count": null,
   "metadata": {},
   "outputs": [],
   "source": [
    "import matplotlib.pyplot as plt\n",
    "import seaborn as sns\n",
    "\n",
    "# Class Distribution\n",
    "sns.countplot(data['Class'])\n",
    "plt.title('Class Distribution (0: Non-Fraud, 1: Fraud)')\n",
    "plt.show()\n",
    "\n",
    "# Time Analysis\n",
    "plt.figure(figsize=(10,6))\n",
    "plt.title('Distribution of Transaction Time')\n",
    "sns.histplot(data['Time'], bins=40)\n",
    "plt.show()\n",
    "\n",
    "# Amount Analysis\n",
    "plt.figure(figsize=(10,6))\n",
    "plt.title('Distribution of Transaction Amount')\n",
    "sns.histplot(data['Amount'], bins=40)\n",
    "plt.show()\n",
    "\n",
    "# Feature Correlation\n",
    "plt.figure(figsize=(12,10))\n",
    "sns.heatmap(data.corr(), cmap='coolwarm', annot=False)\n",
    "plt.title('Feature Correlation Heatmap')\n",
    "plt.show()\n"
   ]
  },
  {
   "cell_type": "markdown",
   "metadata": {},
   "source": []
  },
  {
   "cell_type": "code",
   "execution_count": null,
   "metadata": {},
   "outputs": [],
   "source": [
    "# Histograms for a selection of features (V1, V2, V3, V4)\n",
    "features = ['V1', 'V2', 'V3', 'V4']\n",
    "data[features].hist(bins=20, figsize=(15, 6), layout=(2, 2))\n"
   ]
  },
  {
   "cell_type": "markdown",
   "metadata": {},
   "source": [
    "## Preliminary Observations\n",
    "- **Class Imbalance**: The number of fraudulent transactions is much lower than non-fraudulent ones.\n",
    "- **Time Feature**: There doesn't seem to be a clear trend or pattern in transaction time.\n",
    "- **Amount Feature**: Most transactions are of lower amounts; however, there are outliers with very high amounts.\n",
    "- **Feature Correlations**: Most features do not show strong correlation, which is expected given the PCA transformation.\n"
   ]
  },
  {
   "cell_type": "markdown",
   "metadata": {},
   "source": [
    "## Conclusion\n",
    "The exploratory analysis provides valuable insights into the dataset's structure and distributions. The next steps involve further data preprocessing, feature engineering, and model selection based on these insights.\n"
   ]
  },
  {
   "cell_type": "code",
   "execution_count": null,
   "metadata": {},
   "outputs": [],
   "source": []
  }
 ],
 "metadata": {
  "language_info": {
   "name": "python"
  }
 },
 "nbformat": 4,
 "nbformat_minor": 2
}
